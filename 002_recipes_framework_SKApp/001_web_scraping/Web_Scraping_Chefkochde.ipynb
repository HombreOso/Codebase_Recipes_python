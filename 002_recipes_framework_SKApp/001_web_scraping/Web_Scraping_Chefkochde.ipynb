{
 "cells": [
  {
   "cell_type": "markdown",
   "id": "0fc11431",
   "metadata": {},
   "source": [
    "## Create a recipe database by scrapping the data from a website"
   ]
  },
  {
   "cell_type": "code",
   "execution_count": 15,
   "id": "b4b1d761",
   "metadata": {},
   "outputs": [],
   "source": [
    "from bs4 import BeautifulSoup #scraping\n",
    "import requests #for HTTP requests\n",
    "import re #for regular expression\n",
    "import time \n",
    "\n",
    "import pandas as pd\n",
    "import numpy as np\n",
    "import spacy\n",
    "\n",
    "\n",
    "import random"
   ]
  },
  {
   "cell_type": "code",
   "execution_count": 70,
   "id": "595b417c",
   "metadata": {},
   "outputs": [],
   "source": [
    "import unicodedata"
   ]
  },
  {
   "cell_type": "markdown",
   "id": "b85782d6",
   "metadata": {},
   "source": [
    "### 1. Defining function to scrape the website \"allrecipes.com\""
   ]
  },
  {
   "cell_type": "code",
   "execution_count": 16,
   "id": "1f2da77b",
   "metadata": {},
   "outputs": [],
   "source": [
    "def getRecipeLink(url, totalPage):\n",
    "    recipes_all = []\n",
    "    for page in range(totalPage):\n",
    "        if page == 0:\n",
    "            str_index_page = f\"s0t32\" + \"/Vegetarisch-Rezepte.html\"\n",
    "        else:\n",
    "            str_index_page = f\"s{str(page*30).zfill(3)}t32\" + \"/Vegetarisch-Rezepte.html\"\n",
    "        \n",
    "        r = requests.get(base_url + str_index_page) #returns a variable which contains the html doc unstructured\n",
    "        html = BeautifulSoup(r.content, \"html.parser\")\n",
    "        k = 0 #to count recipes per page\n",
    "        for i in html.findAll('article', {\"class\": \"rsel-item ds-grid-float ds-col-12 ds-col-m-8\"}):\n",
    "            link = i.find(\"a\", attrs={'href': re.compile(\"https://www.chefkoch.de/rezepte\")})\n",
    "            name = link[\"data-vars-recipe-title\"]\n",
    "            recipes_all.append({\"name\" : name, \"url\" : link['href']})\n",
    "            k+=1\n",
    "        print(\"Extracted {} recipes\".format(k))\n",
    "    return recipes_all"
   ]
  },
  {
   "cell_type": "code",
   "execution_count": 17,
   "id": "3c20bca7",
   "metadata": {},
   "outputs": [],
   "source": [
    "base_url = \"https://www.chefkoch.de/rs/\""
   ]
  },
  {
   "cell_type": "code",
   "execution_count": 61,
   "id": "2a82f2d2",
   "metadata": {},
   "outputs": [],
   "source": [
    "regex_pattern_numbers_fractions = r\"\\d+[.,]?[\\/]?\\d*\"\n",
    "regex_pattern_vulgar_fractions = r\"[\\u00BC-\\u00BE\\u2150-\\u215E]\""
   ]
  },
  {
   "cell_type": "code",
   "execution_count": 21,
   "id": "2d2e4a87",
   "metadata": {},
   "outputs": [
    {
     "name": "stdout",
     "output_type": "stream",
     "text": [
      "Extracted 30 recipes\n"
     ]
    },
    {
     "data": {
      "text/plain": [
       "[{'name': 'Die perfekten Hamburgerbrötchen',\n",
       "  'url': 'https://www.chefkoch.de/rezepte/2642351415194117/Die-perfekten-Hamburgerbroetchen.html'},\n",
       " {'name': 'Joghurtbombe',\n",
       "  'url': 'https://www.chefkoch.de/rezepte/2568071401917035/Joghurtbombe.html'},\n",
       " {'name': 'Baguette magique',\n",
       "  'url': 'https://www.chefkoch.de/rezepte/2587261406118751/Baguette-magique.html'},\n",
       " {'name': 'Amerikanisches Gurkenrelish für eine Hamburger Sauce',\n",
       "  'url': 'https://www.chefkoch.de/rezepte/2446211385409096/Amerikanisches-Gurkenrelish-fuer-eine-Hamburger-Sauce.html'},\n",
       " {'name': 'Schneemoussetorte mit Rhabarber',\n",
       "  'url': 'https://www.chefkoch.de/rezepte/1521151257327860/Schneemoussetorte-mit-Rhabarber.html'},\n",
       " {'name': 'Grießbrei von Großmutter',\n",
       "  'url': 'https://www.chefkoch.de/rezepte/914031196710118/Griessbrei-von-Grossmutter.html'},\n",
       " {'name': 'Hamburger und Hot Dog Buns',\n",
       "  'url': 'https://www.chefkoch.de/rezepte/2841831436245733/Hamburger-und-Hot-Dog-Buns.html'},\n",
       " {'name': 'KFC Coleslaw',\n",
       "  'url': 'https://www.chefkoch.de/rezepte/3017351454519857/KFC-Coleslaw.html'},\n",
       " {'name': 'Dattelcreme',\n",
       "  'url': 'https://www.chefkoch.de/rezepte/2911251443383530/Dattelcreme.html'},\n",
       " {'name': 'Dinkelvollkornbrot',\n",
       "  'url': 'https://www.chefkoch.de/rezepte/1949731317135673/Dinkelvollkornbrot.html'},\n",
       " {'name': 'Sauerteig',\n",
       "  'url': 'https://www.chefkoch.de/rezepte/916071197018348/Sauerteig.html'},\n",
       " {'name': 'Schneller Lebkuchen',\n",
       "  'url': 'https://www.chefkoch.de/rezepte/762581179058586/Schneller-Lebkuchen.html'},\n",
       " {'name': 'Eierlikör nach DDR-Tradition',\n",
       "  'url': 'https://www.chefkoch.de/rezepte/541961151505565/Eierlikoer-nach-DDR-Tradition.html'},\n",
       " {'name': 'Friedas genialer Hefezopf',\n",
       "  'url': 'https://www.chefkoch.de/rezepte/378801124204434/Friedas-genialer-Hefezopf.html'},\n",
       " {'name': 'Veganes Soja \"Chicken\" Korma',\n",
       "  'url': 'https://www.chefkoch.de/rezepte/3274371486501413/Veganes-Soja-Chicken-Korma.html'},\n",
       " {'name': 'Avocado-Brownies',\n",
       "  'url': 'https://www.chefkoch.de/rezepte/3112391464171247/Avocado-Brownies.html'},\n",
       " {'name': 'Russischer Zupfkuchen',\n",
       "  'url': 'https://www.chefkoch.de/rezepte/2636361414129018/Russischer-Zupfkuchen.html'},\n",
       " {'name': 'Altbaerlis Kaiserschmarrn',\n",
       "  'url': 'https://www.chefkoch.de/rezepte/1900361309694639/Altbaerlis-Kaiserschmarrn.html'},\n",
       " {'name': 'Serviettenknödel',\n",
       "  'url': 'https://www.chefkoch.de/rezepte/1574651265014378/Serviettenknoedel.html'},\n",
       " {'name': 'Mohn - Topfentorte',\n",
       "  'url': 'https://www.chefkoch.de/rezepte/1269621232125698/Mohn-Topfentorte.html'},\n",
       " {'name': 'Nussecken',\n",
       "  'url': 'https://www.chefkoch.de/rezepte/1256021231072628/Nussecken.html'},\n",
       " {'name': 'Kaiserschmarrn - Tiroler Landgasthofrezept',\n",
       "  'url': 'https://www.chefkoch.de/rezepte/1031841208350942/Kaiserschmarrn-Tiroler-Landgasthofrezept.html'},\n",
       " {'name': 'Crème brûlée',\n",
       "  'url': 'https://www.chefkoch.de/rezepte/279041105901002/Creme-brulee.html'},\n",
       " {'name': 'Datteldip',\n",
       "  'url': 'https://www.chefkoch.de/rezepte/2682531420814452/Datteldip.html'},\n",
       " {'name': 'Kürbis-Karotten-Kokos-Ingwer Suppe',\n",
       "  'url': 'https://www.chefkoch.de/rezepte/2233691357770062/Kuerbis-Karotten-Kokos-Ingwer-Suppe.html'},\n",
       " {'name': 'Apfelkuchen mit Streuseln',\n",
       "  'url': 'https://www.chefkoch.de/rezepte/2204031353338061/Apfelkuchen-mit-Streuseln.html'},\n",
       " {'name': 'Zimtschnecken mit Sahneguss',\n",
       "  'url': 'https://www.chefkoch.de/rezepte/2200781352909710/Zimtschnecken-mit-Sahneguss.html'},\n",
       " {'name': 'Gourmet-Schoko-Pudding selbstgemacht, sahnig und schokoladig',\n",
       "  'url': 'https://www.chefkoch.de/rezepte/2031871329317582/Gourmet-Schoko-Pudding-selbstgemacht-sahnig-und-schokoladig.html'},\n",
       " {'name': 'Beurre manié',\n",
       "  'url': 'https://www.chefkoch.de/rezepte/1345621239312368/Beurre-manie.html'},\n",
       " {'name': 'Karamellsauce',\n",
       "  'url': 'https://www.chefkoch.de/rezepte/1286721234084433/Karamellsauce.html'}]"
      ]
     },
     "execution_count": 21,
     "metadata": {},
     "output_type": "execute_result"
    }
   ],
   "source": [
    "recipes_list_test = getRecipeLink(base_url, totalPage=1)\n",
    "recipes_list_test"
   ]
  },
  {
   "cell_type": "code",
   "execution_count": 22,
   "id": "f72e93e0",
   "metadata": {},
   "outputs": [],
   "source": [
    "url_12 = recipes_list_test[12]['url']\n",
    "r_12 = requests.get(url_12) #returns a variable which contains the html doc unstructured\n",
    "currRecipe_12 = BeautifulSoup(r_12.content, \"html.parser\")"
   ]
  },
  {
   "cell_type": "code",
   "execution_count": 23,
   "id": "0e018b92",
   "metadata": {},
   "outputs": [],
   "source": [
    "url_23 = recipes_list_test[23]['url']\n",
    "r_23 = requests.get(url_23) #returns a variable which contains the html doc unstructured\n",
    "currRecipe_23 = BeautifulSoup(r_23.content, \"html.parser\")"
   ]
  },
  {
   "cell_type": "code",
   "execution_count": 68,
   "id": "801696a4",
   "metadata": {},
   "outputs": [],
   "source": [
    "currRecipe_test = BeautifulSoup(requests.get(recipes_list_test[23]['url']).content, \"html.parser\")"
   ]
  },
  {
   "cell_type": "code",
   "execution_count": 37,
   "id": "8d3bd05c",
   "metadata": {},
   "outputs": [],
   "source": [
    "# For vegsoc.org\n",
    "def get_ingreds_together(currRecipe):\n",
    "    ingreds_together = []\n",
    "    uls = currRecipe.find_all(\"ul\", {\"class\": \"ingredients-list__list no-list\"})\n",
    "    for ul in uls:\n",
    "        lis = ul.find_all(\"li\", {\"class\": \"ingredients-list__item js-ingredient-item\"})\n",
    "        for li in lis:\n",
    "            text = li.text\n",
    "            if isinstance(text, str):\n",
    "                text = text.strip()\n",
    "                ingreds_together.append(text)\n",
    "    return ingreds_together"
   ]
  },
  {
   "cell_type": "code",
   "execution_count": 26,
   "id": "095e28f2",
   "metadata": {},
   "outputs": [],
   "source": [
    "# For chefkoch.de\n",
    "def get_ingreds_together(currRecipe):\n",
    "    ingreds_together = []\n",
    "    tables = currRecipe.find_all(\"table\", {\"class\": \"ingredients table-header\"})\n",
    "    for table in tables:\n",
    "        lis = ul.find_all(\"li\", {\"class\": \"ingredients-list__item js-ingredient-item\"})\n",
    "        for li in lis:\n",
    "            text = li.text\n",
    "            if isinstance(text, str):\n",
    "                text = text.strip()\n",
    "                ingreds_together.append(text)\n",
    "    return ingreds_together"
   ]
  },
  {
   "cell_type": "code",
   "execution_count": 43,
   "id": "d124007e",
   "metadata": {},
   "outputs": [
    {
     "data": {
      "text/plain": [
       "['440ml good quality vegan cider',\n",
       " '1 tsp chopped chives',\n",
       " '2 tbsp olive oil',\n",
       " '2 tbsp white caster sugar',\n",
       " '11/2 tbsp English mustard',\n",
       " 'Salt and pepper, to taste',\n",
       " '500g mini baby new potatoes',\n",
       " '1 tbsp olive oil',\n",
       " '2 whole garlic bulbs, tops cut off to expose the cloves',\n",
       " '6 vegan sausages, left whole or cut into halves',\n",
       " '2 red onions, cut into wedges',\n",
       " '150g Tenderstem broccoli',\n",
       " '2 red apples, cut into wedges',\n",
       " '100g vegan hollandaise sauce',\n",
       " '2 tbsp gherkins, finely chopped',\n",
       " '1 tsp chives, chopped',\n",
       " '1 tsp chopped flat-leaf parsley',\n",
       " 'A handful flat-leaf parsley and torn basil']"
      ]
     },
     "execution_count": 43,
     "metadata": {},
     "output_type": "execute_result"
    }
   ],
   "source": [
    "get_ingreds_together(curr____Recipe)"
   ]
  },
  {
   "cell_type": "code",
   "execution_count": 122,
   "id": "802f7ad6",
   "metadata": {},
   "outputs": [],
   "source": [
    "# for vegsoc.org\n",
    "def get_ingreds_separately(currRecipe):\n",
    "    divs = currRecipe.find_all(\"div\", {\"class\": \"ingredients-list__meal-part\"})\n",
    "    if divs is None:\n",
    "        return \"no info\"\n",
    "    try:\n",
    "        headings = [div.find(\"h5\", {\"class\": \"ingredients-list__meal-part-heading\"}).text for div in divs]\n",
    "    except AttributeError:\n",
    "        return \"no info\"\n",
    "    ingred_lists = [get_ingreds_together(div) for div in divs]\n",
    "    ingred_lists_dict = dict(zip(headings, ingred_lists))\n",
    "    return ingred_lists_dict"
   ]
  },
  {
   "cell_type": "code",
   "execution_count": 87,
   "id": "a9080dd2",
   "metadata": {},
   "outputs": [],
   "source": [
    "def separate_quant_units_string(quant_units_string, regex_pattern_numbers_fractions=regex_pattern_numbers_fractions, regex_pattern_vulgar_fractions=regex_pattern_vulgar_fractions, verbose=False):\n",
    "    number = re.findall(string=quant_units_string, pattern=regex_pattern_numbers_fractions)\n",
    "    flag_vulgar = False\n",
    "    if len(number) == 0:\n",
    "        number = re.findall(string=quant_units_string, pattern=regex_pattern_vulgar_fractions)\n",
    "        flag_vulgar = True\n",
    "    number = number[0]\n",
    "    if flag_vulgar:\n",
    "        number = str(unicodedata.numeric(number))\n",
    "    if verbose:\n",
    "        #print(ingred_quant_text, \"\\t\", number)\n",
    "        pass\n",
    "    quant = quant_units_string.replace(number,\"\").strip()\n",
    "    return [number, quant]  "
   ]
  },
  {
   "cell_type": "code",
   "execution_count": 162,
   "id": "27b99f79",
   "metadata": {},
   "outputs": [],
   "source": [
    "# for chefkoch.de\n",
    "def get_ingreds_separately(currRecipe):\n",
    "    ingred_lists_dict = {}\n",
    "    tables = currRecipe.find_all(\"table\", {\"class\": \"ingredients table-header\"})\n",
    "    if tables is None:\n",
    "        return \"no info\"\n",
    "    for table in tables:\n",
    "        thead = table.find(\"thead\")\n",
    "        if thead:\n",
    "            h3_head = thead.find(\"h3\")\n",
    "            sublist_ingreds_name = h3_head.text\n",
    "        else:\n",
    "            sublist_ingreds_name = \"just_one_ingred_list\"\n",
    "        ingred_quant_ans_name_tuples_list = []\n",
    "        tds_left_quant = table.find(\"tbody\").find_all(\"td\",  {\"class\": \"td-left\"})\n",
    "        tds_right_ingred_name = table.find(\"tbody\").find_all(\"td\",  {\"class\": \"td-right\"})\n",
    "        assert len(tds_left_quant) == len(tds_right_ingred_name)\n",
    "        for td_quant, td_ingred_name in zip(tds_left_quant, tds_right_ingred_name):\n",
    "            ingred_quant_span = td_quant.find(\"span\")\n",
    "            if ingred_quant_span is None:\n",
    "                continue\n",
    "            \n",
    "            ingred_ingred_name_span = td_ingred_name.find(\"span\")\n",
    "            if ingred_ingred_name_span is None:\n",
    "                continue\n",
    "            \n",
    "            ingred_quant_text = td_quant.find(\"span\").text.strip()\n",
    "            if ingred_quant_text is None:\n",
    "                ingred_quant_text = td_quant.find(\"span\").find(\"a\").text.strip()\n",
    "            ingred_name_text = td_ingred_name.find(\"span\").text.strip()\n",
    "            if ingred_name_text is None:\n",
    "                ingred_name_text = td_ingred_name.find(\"span\").find(\"a\").text.strip()\n",
    "            \n",
    "            # processing quant text \n",
    "            flag_vulgar = False\n",
    "            number = re.findall(string=ingred_quant_text, pattern=regex_pattern_numbers_fractions)\n",
    "            # if the quantity is either a vulgar fraction or not a number\n",
    "            if len(number) == 0:\n",
    "                number = re.findall(string=ingred_quant_text, pattern=regex_pattern_vulgar_fractions)\n",
    "                flag_vulgar = True\n",
    "            # if there are no numbers in the quantity column\n",
    "            if len(number) == 0:\n",
    "                continue\n",
    "            number = number[0]\n",
    "            if flag_vulgar:\n",
    "                number = str(unicodedata.numeric(number))\n",
    "            #print(ingred_quant_text, \"\\t\", number)\n",
    "            quant = ingred_quant_text.replace(number,\"\").strip()\n",
    "            ingred_quant_ans_name_tuples_list.append((ingred_quant_text, ingred_name_text, number, quant))\n",
    "        ingred_lists_dict[sublist_ingreds_name] = ingred_quant_ans_name_tuples_list\n",
    "    return ingred_lists_dict"
   ]
  },
  {
   "cell_type": "code",
   "execution_count": 163,
   "id": "90cf7828",
   "metadata": {},
   "outputs": [
    {
     "data": {
      "text/plain": [
       "1"
      ]
     },
     "execution_count": 163,
     "metadata": {},
     "output_type": "execute_result"
    }
   ],
   "source": [
    "ts = currRecipe_12.find_all(\"table\", {\"class\": \"ingredients table-header\"})\n",
    "len(ts)"
   ]
  },
  {
   "cell_type": "code",
   "execution_count": 164,
   "id": "57c0f8dc",
   "metadata": {},
   "outputs": [
    {
     "data": {
      "text/plain": [
       "{'just_one_ingred_list': [('250                                ml',\n",
       "   'Vollmilch',\n",
       "   '250',\n",
       "   'ml'),\n",
       "  ('20                                g', 'Frischhefe, 1/2 Würfel', '20', 'g'),\n",
       "  ('12                                g', 'Zucker', '12', 'g'),\n",
       "  ('8                                g', 'Salz', '8', 'g'),\n",
       "  ('25                                g', 'Honig', '25', 'g'),\n",
       "  ('38                                g', 'Rapsöl', '38', 'g'),\n",
       "  ('425                                g', 'Weizenmehl Type 550', '425', 'g')],\n",
       " 'Außerdem: optional': [('1                                m.-großes',\n",
       "   'Ei(er)',\n",
       "   '1',\n",
       "   'm.-großes'),\n",
       "  ('2                                EL', 'Milch', '2', 'EL')]}"
      ]
     },
     "execution_count": 164,
     "metadata": {},
     "output_type": "execute_result"
    }
   ],
   "source": [
    "get_ingreds_separately(currRecipe_test_list[6])"
   ]
  },
  {
   "cell_type": "code",
   "execution_count": 97,
   "id": "9c64d843",
   "metadata": {},
   "outputs": [],
   "source": [
    "currRecipe_test_list = [BeautifulSoup(requests.get(recipes_list_test[ix]['url']).content, \"html.parser\") for ix in range(30)]"
   ]
  },
  {
   "cell_type": "code",
   "execution_count": 95,
   "id": "c95d1476",
   "metadata": {},
   "outputs": [],
   "source": [
    "def get_nutritional_metrics(currRecipe):\n",
    "    nutritional_metrics_names_list = [\"kcal\", \"protein\", \"fat\", \"carbs\"]\n",
    "    divs = currRecipe.find_all(\"div\", {\"class\": \"ds-col-3\"})\n",
    "    nutritional_metrics_keys = []\n",
    "    nutritional_metrics_values = []\n",
    "    for div in divs:\n",
    "        try:\n",
    "            nutritional_metrics_keys.append(div.find(\"h5\").text)\n",
    "            nutr_val_list = separate_quant_units_string(div.text.strip().split(\"\\n\")[-1].strip())\n",
    "            nutritional_metrics_values.append(nutr_val_list)\n",
    "        except AttributeError:\n",
    "            break\n",
    "    if divs:\n",
    "        nutritional_info_dict = dict(zip(nutritional_metrics_keys, nutritional_metrics_values))\n",
    "    else:\n",
    "        nutritional_info_dict = dict(zip(nutritional_metrics_names_list, [\"no info\"]*len(nutritional_metrics_names_list)))\n",
    "    return nutritional_info_dict"
   ]
  },
  {
   "cell_type": "code",
   "execution_count": 98,
   "id": "47394117",
   "metadata": {},
   "outputs": [
    {
     "name": "stdout",
     "output_type": "stream",
     "text": [
      "1                                Pck. \t 1\n",
      "1                                Becher \t 1\n",
      "150                                g \t 150\n",
      "1 \t 1\n",
      "½                                TL \t 0.5\n",
      "1                                TL, gestr. \t 1\n"
     ]
    },
    {
     "data": {
      "text/plain": [
       "{'just_one_ingred_list': [('1                                Pck.',\n",
       "   'Frischkäse',\n",
       "   '1',\n",
       "   'Pck.'),\n",
       "  ('1                                Becher', 'Schmand', '1', 'Becher'),\n",
       "  ('150                                g', 'Dattel(n), entsteint', '150', 'g'),\n",
       "  ('1', 'Knoblauchzehe(n)', '1', ''),\n",
       "  ('½                                TL',\n",
       "   'Currypulver',\n",
       "   '0.5',\n",
       "   '½                                TL'),\n",
       "  ('1                                TL, gestr.',\n",
       "   'Chilipaste oder Harissapaste',\n",
       "   '1',\n",
       "   'TL, gestr.')]}"
      ]
     },
     "execution_count": 98,
     "metadata": {},
     "output_type": "execute_result"
    }
   ],
   "source": [
    "get_ingreds_separately(currRecipe_test_list[23])"
   ]
  },
  {
   "cell_type": "code",
   "execution_count": 99,
   "id": "650bb0bf",
   "metadata": {},
   "outputs": [],
   "source": [
    "def get_keypoints_list(currRecipe):\n",
    "    a_s = currRecipe.find_all(\"a\", {\"class\": \"ds-tag bi-tags\"})\n",
    "    keypoints_list = [a_item.text.strip() for a_item in a_s]\n",
    "    return keypoints_list"
   ]
  },
  {
   "cell_type": "code",
   "execution_count": 121,
   "id": "efda907a",
   "metadata": {},
   "outputs": [
    {
     "data": {
      "text/plain": [
       "{'kcal': ['1478', ''],\n",
       " 'Eiweiß': ['26,05', 'g'],\n",
       " 'Fett': ['108,93', 'g'],\n",
       " 'Kohlenhydr.': ['97,32', 'g']}"
      ]
     },
     "execution_count": 121,
     "metadata": {},
     "output_type": "execute_result"
    }
   ],
   "source": [
    "get_nutritional_metrics(currRecipe_test_list[23])"
   ]
  },
  {
   "cell_type": "code",
   "execution_count": 108,
   "id": "95d94fe1",
   "metadata": {},
   "outputs": [
    {
     "data": {
      "text/plain": [
       "['Backen', 'Vegetarisch', 'Brot oder Brötchen', 'Gluten', 'Lactose']"
      ]
     },
     "execution_count": 108,
     "metadata": {},
     "output_type": "execute_result"
    }
   ],
   "source": [
    "get_keypoints_list(currRecipe_test_list[0])"
   ]
  },
  {
   "cell_type": "code",
   "execution_count": 58,
   "id": "07893625",
   "metadata": {},
   "outputs": [
    {
     "data": {
      "text/plain": [
       "['Dairy-Free', 'Egg-Free', 'Gluten-Free', 'Nut-Free', 'Vegan', 'Wheat-Free']"
      ]
     },
     "execution_count": 58,
     "metadata": {},
     "output_type": "execute_result"
    }
   ],
   "source": [
    "get_keypoints_list(curr____Recipe)"
   ]
  },
  {
   "cell_type": "code",
   "execution_count": 115,
   "id": "bacc29a8",
   "metadata": {},
   "outputs": [],
   "source": [
    "def get_prep_info_dict(currRecipe):\n",
    "    prep_info_dict = {}\n",
    "    small_tag = currRecipe.find(\"small\", {\"class\": \"ds-recipe-meta rds-recipe-meta\"})\n",
    "    spans = small_tag.find_all(\"span\")\n",
    "    for span in spans:\n",
    "        raw_text_list = span.text.strip().split()\n",
    "        info_type = raw_text_list[1]\n",
    "        mixed_time_info_list = \" \".join(raw_text_list[2:]).replace(\"ca.\", \"\").strip().split()\n",
    "        time_units = mixed_time_info_list[-1]\n",
    "        time_quantity = mixed_time_info_list[0]\n",
    "        prep_info_dict[info_type] = (time_quantity, time_units)\n",
    "        \n",
    "    return prep_info_dict"
   ]
  },
  {
   "cell_type": "code",
   "execution_count": 116,
   "id": "e0c95219",
   "metadata": {},
   "outputs": [
    {
     "data": {
      "text/plain": [
       "{'Arbeitszeit': ('15', 'Minuten'),\n",
       " 'Ruhezeit': ('2', 'Minuten'),\n",
       " 'Koch-/Backzeit': ('20', 'Minuten'),\n",
       " 'Gesamtzeit': ('2', 'Minuten')}"
      ]
     },
     "execution_count": 116,
     "metadata": {},
     "output_type": "execute_result"
    }
   ],
   "source": [
    "get_prep_info_dict(currRecipe_test_list[0])"
   ]
  },
  {
   "cell_type": "code",
   "execution_count": 117,
   "id": "3983137f",
   "metadata": {},
   "outputs": [],
   "source": [
    "def get_servings_number(currRecipe):\n",
    "    input_tag = currRecipe.find(\"input\", {\"aria-label\": \"Anzahl der Portionen\"})\n",
    "    return str(input_tag[\"value\"])"
   ]
  },
  {
   "cell_type": "code",
   "execution_count": 122,
   "id": "f35b7b62",
   "metadata": {},
   "outputs": [
    {
     "data": {
      "text/plain": [
       "'1'"
      ]
     },
     "execution_count": 122,
     "metadata": {},
     "output_type": "execute_result"
    }
   ],
   "source": [
    "get_servings_number(currRecipe_test_list[15])"
   ]
  },
  {
   "cell_type": "code",
   "execution_count": 141,
   "id": "3dec1ad5",
   "metadata": {},
   "outputs": [],
   "source": [
    "def get_instructions(currRecipe):\n",
    "    divs = currRecipe.find_all(\"div\", {\"class\": \"ds-box\"})\n",
    "    for div in divs:\n",
    "        children_br = div.findChildren(\"br\", recursive=False)\n",
    "        children_a = div.findChildren(\"a\", recursive=False)\n",
    "        if children_br and len(children_a) == 0:\n",
    "            break\n",
    "    instructions = div.text.strip().replace(\"\\n\", \" \").replace(\"\\ue83a\", \"\").replace(\"\\r\", \"\").strip()\n",
    "    return instructions"
   ]
  },
  {
   "cell_type": "code",
   "execution_count": 142,
   "id": "97437488",
   "metadata": {},
   "outputs": [
    {
     "data": {
      "text/plain": [
       "'Die Datteln klein schneiden, den Knoblauch pressen oder nach Wunsch ebenfalls klein schneiden.  Den Frischkäse mit dem Schmand glatt rühren, die Datteln und den Knoblauch hineingeben. Anschließend noch die Chilipaste und das Currypulver dazugeben.  Hinweise: Wer Chilipaste nicht mag, kann Paprikapulver nehmen.'"
      ]
     },
     "execution_count": 142,
     "metadata": {},
     "output_type": "execute_result"
    }
   ],
   "source": [
    "get_instructions(currRecipe_test_list[23])"
   ]
  },
  {
   "cell_type": "code",
   "execution_count": 168,
   "id": "a6d443aa",
   "metadata": {},
   "outputs": [],
   "source": [
    "def getEachRecipe(recipesList):\n",
    "    for ix in range(len(recipesList)):\n",
    "        url = recipesList[ix]['url']\n",
    "        r = requests.get(url) #returns a variable which contains the html doc unstructured\n",
    "        currRecipe = BeautifulSoup(r.content, \"html.parser\")\n",
    "        #there are two versions of the website, the old and new have different html structure\n",
    "        #they require different parsing\n",
    "        ver = 0\n",
    "        recipe_name = recipesList[ix][\"name\"]\n",
    "        recipesList[ix]['id'] = str(ix+1).zfill(4)\n",
    "        recipesList[ix]['name'] = recipe_name\n",
    "        \n",
    "        instructions = get_instructions(currRecipe)\n",
    "        recipesList[ix]['instructions'] = instructions\n",
    "\n",
    "        ingred_separate_lists = get_ingreds_separately(currRecipe)\n",
    "        recipesList[ix]['ingred_separate_lists'] = ingred_separate_lists\n",
    "        \n",
    "        key_points_list = get_keypoints_list(currRecipe)\n",
    "        recipesList[ix]['key_points_list'] = key_points_list\n",
    "               \n",
    "        nutritional_info = get_nutritional_metrics(currRecipe)\n",
    "        recipesList[ix]['nutritional_info_dict'] = nutritional_info       \n",
    "\n",
    "        \n",
    "        preparation_info_dict = get_prep_info_dict(currRecipe)\n",
    "        recipesList[ix]['preparation_info_dict'] = preparation_info_dict\n",
    "        \n",
    "        recipesList[ix]['servings_number'] = get_servings_number(currRecipe)\n",
    "        \n",
    "        print(\"\\r\", \"Adding {0} recipe\".format(ix + 1), end=\" \")\n",
    "    return recipesList"
   ]
  },
  {
   "cell_type": "code",
   "execution_count": 149,
   "id": "6a0bdc25",
   "metadata": {},
   "outputs": [
    {
     "name": "stdout",
     "output_type": "stream",
     "text": [
      "Extracted 30 recipes\n"
     ]
    }
   ],
   "source": [
    "recipes_test = getRecipeLink(base_url, 1)"
   ]
  },
  {
   "cell_type": "code",
   "execution_count": 165,
   "id": "292a2310",
   "metadata": {},
   "outputs": [
    {
     "name": "stdout",
     "output_type": "stream",
     "text": [
      " Adding 30 recipe "
     ]
    }
   ],
   "source": [
    "data_test = getEachRecipe(recipes_test)"
   ]
  },
  {
   "cell_type": "code",
   "execution_count": 166,
   "id": "d4f1ee55",
   "metadata": {},
   "outputs": [],
   "source": [
    "import json"
   ]
  },
  {
   "cell_type": "code",
   "execution_count": 169,
   "id": "f0e0ffe2",
   "metadata": {},
   "outputs": [],
   "source": [
    "with open('chefkoch_de_veg_test.json', 'w', encoding=\"utf-8\") as fp:\n",
    "    json.dump(data_test, fp, indent=4, ensure_ascii=False)"
   ]
  },
  {
   "cell_type": "code",
   "execution_count": 170,
   "id": "2db87f36",
   "metadata": {},
   "outputs": [
    {
     "name": "stdout",
     "output_type": "stream",
     "text": [
      "Extracted 30 recipes\n",
      "Extracted 30 recipes\n",
      "Extracted 30 recipes\n",
      "Extracted 30 recipes\n",
      "Extracted 30 recipes\n",
      "Extracted 30 recipes\n",
      "Extracted 30 recipes\n",
      "Extracted 30 recipes\n",
      "Extracted 30 recipes\n",
      "Extracted 30 recipes\n",
      "Extracted 30 recipes\n",
      "Extracted 30 recipes\n",
      "Extracted 30 recipes\n",
      "Extracted 30 recipes\n",
      "Extracted 30 recipes\n",
      "Extracted 30 recipes\n",
      "Extracted 30 recipes\n",
      "Extracted 30 recipes\n",
      "Extracted 30 recipes\n",
      "Extracted 30 recipes\n",
      "Extracted 30 recipes\n",
      "Extracted 30 recipes\n",
      "Extracted 30 recipes\n",
      "Extracted 30 recipes\n",
      "Extracted 30 recipes\n",
      "Extracted 30 recipes\n",
      "Extracted 30 recipes\n",
      "Extracted 30 recipes\n",
      "Extracted 30 recipes\n",
      "Extracted 30 recipes\n",
      "Extracted 30 recipes\n",
      "Extracted 30 recipes\n",
      "Extracted 30 recipes\n"
     ]
    }
   ],
   "source": [
    "recipes_prod = getRecipeLink(base_url, 33)"
   ]
  },
  {
   "cell_type": "code",
   "execution_count": 171,
   "id": "3b1d0f96",
   "metadata": {},
   "outputs": [],
   "source": [
    "import time"
   ]
  },
  {
   "cell_type": "code",
   "execution_count": 172,
   "id": "6b67cacc",
   "metadata": {},
   "outputs": [
    {
     "name": "stdout",
     "output_type": "stream",
     "text": [
      " Adding 990 recipe Scrapping took 9.146813412507376 minutes\n"
     ]
    }
   ],
   "source": [
    "start_scrapping = time.time()\n",
    "data_prod = getEachRecipe(recipes_prod)\n",
    "end_scrapping = time.time()\n",
    "\n",
    "duration_scrapping_minutes = (end_scrapping - start_scrapping) / 60\n",
    "print(\"Scrapping took {} minutes\".format(duration_scrapping_minutes))"
   ]
  },
  {
   "cell_type": "code",
   "execution_count": 173,
   "id": "1f5f9951",
   "metadata": {},
   "outputs": [],
   "source": [
    "with open('chefkoch_de_prod.json', 'w', encoding=\"utf-8\") as fp:\n",
    "    json.dump(data_prod, fp, indent=4, ensure_ascii=False)"
   ]
  },
  {
   "cell_type": "code",
   "execution_count": null,
   "id": "acfe6108",
   "metadata": {},
   "outputs": [],
   "source": []
  }
 ],
 "metadata": {
  "kernelspec": {
   "display_name": "Python 3 (ipykernel)",
   "language": "python",
   "name": "python3"
  },
  "language_info": {
   "codemirror_mode": {
    "name": "ipython",
    "version": 3
   },
   "file_extension": ".py",
   "mimetype": "text/x-python",
   "name": "python",
   "nbconvert_exporter": "python",
   "pygments_lexer": "ipython3",
   "version": "3.8.6"
  }
 },
 "nbformat": 4,
 "nbformat_minor": 5
}
