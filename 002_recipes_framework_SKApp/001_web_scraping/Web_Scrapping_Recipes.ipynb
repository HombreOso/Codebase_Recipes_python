{
 "cells": [
  {
   "cell_type": "markdown",
   "id": "0fc11431",
   "metadata": {},
   "source": [
    "## Create a recipe database by scrapping the data from a website"
   ]
  },
  {
   "cell_type": "code",
   "execution_count": 1,
   "id": "b4b1d761",
   "metadata": {},
   "outputs": [],
   "source": [
    "from bs4 import BeautifulSoup #scraping\n",
    "import requests #for HTTP requests\n",
    "import re #for regular expression\n",
    "import time \n",
    "\n",
    "import pandas as pd\n",
    "import numpy as np\n",
    "import spacy\n",
    "\n",
    "\n",
    "import random"
   ]
  },
  {
   "cell_type": "markdown",
   "id": "b85782d6",
   "metadata": {},
   "source": [
    "### 1. Defining function to scrape the website \"allrecipes.com\""
   ]
  },
  {
   "cell_type": "code",
   "execution_count": 15,
   "id": "3c20bca7",
   "metadata": {},
   "outputs": [],
   "source": [
    "base_url = \"https://vegsoc.org/recipes/?_paged=\"\n",
    "page=2\n",
    "\n",
    "r = requests.get(base_url + str(page))"
   ]
  },
  {
   "cell_type": "code",
   "execution_count": 3,
   "id": "2d2e4a87",
   "metadata": {},
   "outputs": [
    {
     "data": {
      "text/plain": [
       "<Response [200]>"
      ]
     },
     "execution_count": 3,
     "metadata": {},
     "output_type": "execute_result"
    }
   ],
   "source": [
    "r"
   ]
  },
  {
   "cell_type": "code",
   "execution_count": 4,
   "id": "6b1e540e",
   "metadata": {},
   "outputs": [],
   "source": [
    "html = BeautifulSoup(r.content, \"html.parser\")"
   ]
  },
  {
   "cell_type": "code",
   "execution_count": 5,
   "id": "3bea236b",
   "metadata": {},
   "outputs": [],
   "source": [
    "recipes_all = []"
   ]
  },
  {
   "cell_type": "code",
   "execution_count": 40,
   "id": "c13ebd1d",
   "metadata": {},
   "outputs": [
    {
     "data": {
      "text/plain": [
       "[{'name': 'Cauilflower and Tofu Bibimbap',\n",
       "  'url': 'https://vegsoc.org/recipes/bibimbap/'},\n",
       " {'name': 'Firecracker Traybake',\n",
       "  'url': 'https://vegsoc.org/recipes/firecracker-traybake/'},\n",
       " {'name': 'Japanese Sharing Platter',\n",
       "  'url': 'https://vegsoc.org/recipes/japanese-sharing-platter/'},\n",
       " {'name': 'Sticky Cider-Glazed Sausage Traybake',\n",
       "  'url': 'https://vegsoc.org/recipes/sausage-traybake/'},\n",
       " {'name': 'Guinness Pie with Colcannon, Thyme Roasted Carrots and Tenderstem Broccoli',\n",
       "  'url': 'https://vegsoc.org/recipes/st-patricks-day-pie/'},\n",
       " {'name': 'Summer Barbecue Paella',\n",
       "  'url': 'https://vegsoc.org/recipes/summer-paella/'},\n",
       " {'name': 'Homemade Barbecue Sauce',\n",
       "  'url': 'https://vegsoc.org/recipes/homemade-barbecue-sauce/'},\n",
       " {'name': 'Grilled Halloumi',\n",
       "  'url': 'https://vegsoc.org/recipes/grilled-halloumi/'},\n",
       " {'name': 'Spicy Potato Wedges',\n",
       "  'url': 'https://vegsoc.org/recipes/spicy-potato-wedges/'},\n",
       " {'name': 'Sweet Potato Burger with Griddled Pineapple and Chilli Salsa',\n",
       "  'url': 'https://vegsoc.org/recipes/sweet-potato-burger-with-griddled-pineapple-chilli-salsa/'},\n",
       " {'name': 'Cannellini Bean and Smoked Applewood Sausages',\n",
       "  'url': 'https://vegsoc.org/recipes/cannellini-bean-smoked-applewood-sausages/'},\n",
       " {'name': 'Vegetable and Chickpea Korma with Spicy Rice',\n",
       "  'url': 'https://vegsoc.org/recipes/vegetable-chickpea-korma-with-spicy-rice/'},\n",
       " {'name': 'Slow Roasted Pepper Calzone',\n",
       "  'url': 'https://vegsoc.org/recipes/slow-roasted-pepper-calzone/'},\n",
       " {'name': 'Big Bad Boy Salad',\n",
       "  'url': 'https://vegsoc.org/recipes/big-bad-boy-salad/'},\n",
       " {'name': 'Tahini, Nut and Vegetable Rice Salad',\n",
       "  'url': 'https://vegsoc.org/recipes/tahini-nut-vegetable-rice-salad/'},\n",
       " {'name': 'Zesty Pesto Tofu with Mediterranean Salad',\n",
       "  'url': 'https://vegsoc.org/recipes/zest-pesto-tofu-with-mediterranean-salad/'},\n",
       " {'name': 'Sweet Plum Dumpling',\n",
       "  'url': 'https://vegsoc.org/recipes/sweet-plum-dumpling/'},\n",
       " {'name': 'Brussels Sprout and Horseradish Pâté',\n",
       "  'url': 'https://vegsoc.org/recipes/brussels-sprout-horseradish-pate/'},\n",
       " {'name': 'Pickled Red Cabbage with Apple',\n",
       "  'url': 'https://vegsoc.org/recipes/red-cabbage/'},\n",
       " {'name': 'Pineapple Upside Down Cake',\n",
       "  'url': 'https://vegsoc.org/recipes/pineapple-upside-down-cake/'},\n",
       " {'name': 'Courgette Frittata',\n",
       "  'url': 'https://vegsoc.org/recipes/courgette-frittata/'},\n",
       " {'name': 'Leek and Potato Soup',\n",
       "  'url': 'https://vegsoc.org/recipes/leek-soup/'},\n",
       " {'name': 'Hot and Sour Mushroom and Tofu Soup',\n",
       "  'url': 'https://vegsoc.org/recipes/hot-sour-soup/'},\n",
       " {'name': 'Veggie Leek and Sage Bangers',\n",
       "  'url': 'https://vegsoc.org/recipes/veggie-bangers/'},\n",
       " {'name': 'Tofu and Broccoli Stir Fry in Black Bean Sauce',\n",
       "  'url': 'https://vegsoc.org/recipes/tofu-and-broccoli-stir-fry-in-black-bean-sauce/'},\n",
       " {'name': 'Red Rice and Roasted Red Pepper Salad',\n",
       "  'url': 'https://vegsoc.org/recipes/red-rice-roasted-red-pepper-salad/'},\n",
       " {'name': 'Apricot and Chickpea Salad with Sprouted Pulses',\n",
       "  'url': 'https://vegsoc.org/recipes/apricot-chick-pea-salad/'},\n",
       " {'name': 'Mushroom and Vegetable Quinoa Salad',\n",
       "  'url': 'https://vegsoc.org/recipes/vegetable-quinoa/'},\n",
       " {'name': 'Sweet Potato Filo Parcels with Papaya Sauce',\n",
       "  'url': 'https://vegsoc.org/recipes/tobago-parcels-with-papaya-sauce/'},\n",
       " {'name': 'Pineapple Stuffed with Mixed Jerk Vegetables',\n",
       "  'url': 'https://vegsoc.org/recipes/mixed-jerk-vegetables/'},\n",
       " {'name': 'Mango and Tomato Salad',\n",
       "  'url': 'https://vegsoc.org/recipes/mango-tomato-salad/'},\n",
       " {'name': 'Fruit and Rum Cakes with Cream Sauce',\n",
       "  'url': 'https://vegsoc.org/recipes/jamaican-rum-cakes/'},\n",
       " {'name': 'Black Bean and Yellow Rice Pitons',\n",
       "  'url': 'https://vegsoc.org/recipes/black-bean-yellow-rice-pitons/'},\n",
       " {'name': 'Caribbean Red Bean and Cashew Savouries',\n",
       "  'url': 'https://vegsoc.org/recipes/caribbean-red-bean-cashew-savouries/'},\n",
       " {'name': 'Tomato, Pepper and Olive Crostini',\n",
       "  'url': 'https://vegsoc.org/recipes/christmas-crostini/'},\n",
       " {'name': 'Broccoli Korma with Basmati Rice',\n",
       "  'url': 'https://vegsoc.org/recipes/broccoli-korma/'},\n",
       " {'name': 'Thai-Inspired Cauliflower and Carrot Terrine',\n",
       "  'url': 'https://vegsoc.org/recipes/thai-style-cauliflower-and-carrot-terrine/'},\n",
       " {'name': 'Dovedale and Beetroot Layered Yorkshire Pudding',\n",
       "  'url': 'https://vegsoc.org/recipes/dovedale-and-beetroot-layered-yorkshire-pudding/'},\n",
       " {'name': 'Creamy Watercress and Blue Cheese Pasta with Grilled Fennel',\n",
       "  'url': 'https://vegsoc.org/recipes/creamy-watercress-and-blue-cheese-pasta-with-grilled-fennel/'},\n",
       " {'name': 'Spicy Lemon and Coriander Quorn with Basmati Rice',\n",
       "  'url': 'https://vegsoc.org/recipes/spiced-lemon-coriander-quorn/'},\n",
       " {'name': 'Veggie Haggis', 'url': 'https://vegsoc.org/recipes/veggie-haggis/'},\n",
       " {'name': 'Swede, Potato and Bean Pasties',\n",
       "  'url': 'https://vegsoc.org/recipes/perfect-pasties/'},\n",
       " {'name': 'Canal Floddies',\n",
       "  'url': 'https://vegsoc.org/recipes/canal-floddies/'},\n",
       " {'name': 'Ale and Mushroom Puff Pastry Pie with Champ',\n",
       "  'url': 'https://vegsoc.org/recipes/ale-and-mushroom-puff-pastry-pie-with-champ/'},\n",
       " {'name': 'Aubergine, Potato and Chickpea Balti',\n",
       "  'url': 'https://vegsoc.org/recipes/aubergine-potato-and-chick-pea-balti/'},\n",
       " {'name': 'Smoked Garlic, Artichoke and Roasted Butternut Squash Risotto',\n",
       "  'url': 'https://vegsoc.org/recipes/smoked-garlic-artichoke-and-roasted-butternut-squash-risotto/'},\n",
       " {'name': 'Tofu Kebabs with a Simply Delicious Mayonnaise Dressing',\n",
       "  'url': 'https://vegsoc.org/recipes/tofu-kebabs-with-a-simply-delicious-mayonnaise-dressing/'},\n",
       " {'name': 'Swiss Mushroom Rosti',\n",
       "  'url': 'https://vegsoc.org/recipes/swiss-mushroom-rosti/'},\n",
       " {'name': 'Cranberry and Orange Muffins',\n",
       "  'url': 'https://vegsoc.org/recipes/cranberry-and-orange-muffins/'},\n",
       " {'name': 'Avocado and Lime Salad',\n",
       "  'url': 'https://vegsoc.org/recipes/avocado-lime-salad/'},\n",
       " {'name': 'Warm Avocado Salad with Roasted Red Pepper Dressing',\n",
       "  'url': 'https://vegsoc.org/recipes/warm-avocado-salad-with-roasted-red-pepper-dressing/'},\n",
       " {'name': 'Cranberry Sauce',\n",
       "  'url': 'https://vegsoc.org/recipes/cranberry-sauce/'},\n",
       " {'name': 'Cabbage and Potato Cakes with Red Onion Marmalade',\n",
       "  'url': 'https://vegsoc.org/recipes/cabbage-and-potato-cakes-with-red-onion-marmalade/'},\n",
       " {'name': 'Spicy Vegan Hot Cross Buns',\n",
       "  'url': 'https://vegsoc.org/recipes/spicy-vegan-hot-cross-buns/'},\n",
       " {'name': 'Broad Bean, Lemon and Sage Dip',\n",
       "  'url': 'https://vegsoc.org/recipes/broad-bean-lemon-and-sage-dip/'},\n",
       " {'name': 'Polenta with Sicillian Tomato Sauce',\n",
       "  'url': 'https://vegsoc.org/recipes/polenta-with-sicillian-tomato-sauce/'},\n",
       " {'name': 'Pistou Soup – French Vegetable Soup with Basil Sauce',\n",
       "  'url': 'https://vegsoc.org/recipes/soup-au-pistou/'},\n",
       " {'name': 'Thai Vegetarian Curry with Fragrant Rice',\n",
       "  'url': 'https://vegsoc.org/recipes/thai-vegetarian-curry-with-fragrant-rice/'},\n",
       " {'name': 'Aubergine, Courgette and Tomato Cob',\n",
       "  'url': 'https://vegsoc.org/recipes/aubergine-courgette-tomato-cob/'},\n",
       " {'name': 'Apricot and Pecan Pudding with Toffee Sauce',\n",
       "  'url': 'https://vegsoc.org/recipes/apricot-pecan-pudding-with-toffee-sauce/'},\n",
       " {'name': 'Chocolate, Brandy and Hazelnut Yule Log',\n",
       "  'url': 'https://vegsoc.org/recipes/chocolate-brandy-and-hazelnut-yule-log/'},\n",
       " {'name': 'Bread Sauce with Roasted Garlic',\n",
       "  'url': 'https://vegsoc.org/recipes/bread-sauce-with-roasted-garlic/'},\n",
       " {'name': 'Scrambled Tofu and Grilled Tomatoes Piled on Thick Granary Toast',\n",
       "  'url': 'https://vegsoc.org/recipes/scrambled-tofu-and-grilled-tomatoes-piled-on-thick-granary-toast/'},\n",
       " {'name': 'Cashew Nut Roast with Apricot Stuffing',\n",
       "  'url': 'https://vegsoc.org/recipes/cashew-nut-roast-with-apricot-stuffing/'},\n",
       " {'name': 'Carob and Banana Wake Up Shake',\n",
       "  'url': 'https://vegsoc.org/recipes/carob-and-banana-wake-up-shake/'},\n",
       " {'name': 'Artichoke, Green Bean and Pine Nut Risotto',\n",
       "  'url': 'https://vegsoc.org/recipes/artichoke-green-bean-and-pine-nut-risotto/'},\n",
       " {'name': 'Asparagus Pithiviers with Watercress Sauce',\n",
       "  'url': 'https://vegsoc.org/recipes/asparagus-tarts/'},\n",
       " {'name': 'Chocolate Espresso and Roasted Pecan Torte',\n",
       "  'url': 'https://vegsoc.org/recipes/chocolate-espresso-and-roasted-pecan-torte/'},\n",
       " {'name': 'Chestnut Bourguignonne Pie',\n",
       "  'url': 'https://vegsoc.org/recipes/chestnut-bourguignonne-pie/'},\n",
       " {'name': 'Caramelised Parsnips and Baby Onions',\n",
       "  'url': 'https://vegsoc.org/recipes/caramelised-parsnips-baby-onions/'},\n",
       " {'name': 'Braised Chestnuts in Red Wine Gravy',\n",
       "  'url': 'https://vegsoc.org/recipes/braised-chestnuts-in-red-wine-gravy/'},\n",
       " {'name': 'Banana Delight with Lemon Frosted Topping',\n",
       "  'url': 'https://vegsoc.org/recipes/banana-delight-with-lemon-frosted-topping/'},\n",
       " {'name': 'Veggie Sausages with Lime and Ginger Noodles',\n",
       "  'url': 'https://vegsoc.org/recipes/veggie-sausages-with-lime-and-ginger-noodles/'},\n",
       " {'name': 'Spicy Courgette Soup',\n",
       "  'url': 'https://vegsoc.org/recipes/spicy-courgette-soup/'},\n",
       " {'name': 'Broccoli and Dolcelatte Soup',\n",
       "  'url': 'https://vegsoc.org/recipes/broccoli-and-dolcelatte-soup/'},\n",
       " {'name': 'Carrot, Red Lentil and Sesame Bites',\n",
       "  'url': 'https://vegsoc.org/recipes/carrot-red-lentil-and-sesame-bites/'},\n",
       " {'name': 'Sushi Nori Rolls',\n",
       "  'url': 'https://vegsoc.org/recipes/sushi-nori-rolls-nori-maki/'},\n",
       " {'name': 'Crispy Tempura with Vodka and Orange Dipping Sauce',\n",
       "  'url': 'https://vegsoc.org/recipes/crispy-tempura-with-vodka-and-orange-dipping-sauce/'},\n",
       " {'name': 'Chilli and Lime Roulade',\n",
       "  'url': 'https://vegsoc.org/recipes/chilli-and-lime-roulade/'},\n",
       " {'name': 'Barbecue Tomato Sauce',\n",
       "  'url': 'https://vegsoc.org/recipes/barbecue-tomato-sauce/'},\n",
       " {'name': 'Chargrilled Balsamic Tomatoes with Olive Ciabatta',\n",
       "  'url': 'https://vegsoc.org/recipes/char-grilled-balsamic-tomatoes-with-olive-ciabatta/'},\n",
       " {'name': 'Griddled Aubergine Stacks',\n",
       "  'url': 'https://vegsoc.org/recipes/griddled-aubergine-stacks/'},\n",
       " {'name': 'Wild Rosehip Soup',\n",
       "  'url': 'https://vegsoc.org/recipes/wild-rosehip-soup/'},\n",
       " {'name': 'Classic Basil Pesto',\n",
       "  'url': 'https://vegsoc.org/recipes/classic-basil-pesto/'},\n",
       " {'name': 'Walnut Sauce for Pasta',\n",
       "  'url': 'https://vegsoc.org/recipes/walnut-sauce-for-pasta/'},\n",
       " {'name': 'All-in-One Shortbread',\n",
       "  'url': 'https://vegsoc.org/recipes/all-in-one-shortbread/'},\n",
       " {'name': 'Apricot and Coconut Slice',\n",
       "  'url': 'https://vegsoc.org/recipes/apricot-coconut-slice/'},\n",
       " {'name': 'Apricot and Pecan Crumble',\n",
       "  'url': 'https://vegsoc.org/recipes/apricot-and-pecan-crumble/'},\n",
       " {'name': 'Baklava – Sweet Filo Pastry with Walnuts',\n",
       "  'url': 'https://vegsoc.org/recipes/baklavas/'},\n",
       " {'name': 'Green Tomato Chutney',\n",
       "  'url': 'https://vegsoc.org/recipes/green-tomato-chutney/'},\n",
       " {'name': 'Orchard Lattice Pie',\n",
       "  'url': 'https://vegsoc.org/recipes/orchard-lattice-pie/'},\n",
       " {'name': 'Brandy Snap Baskets',\n",
       "  'url': 'https://vegsoc.org/recipes/brandy-snap-baskets/'},\n",
       " {'name': 'Soya Mince and Vegetable Lasagne',\n",
       "  'url': 'https://vegsoc.org/recipes/lasagne/'},\n",
       " {'name': 'Wild Mushroom Pudding',\n",
       "  'url': 'https://vegsoc.org/recipes/wild-mushroom-pudding/'},\n",
       " {'name': 'Fresh Broad Bean and Mint Soup',\n",
       "  'url': 'https://vegsoc.org/recipes/fresh-broad-bean-and-mint-soup/'},\n",
       " {'name': 'Pumpkin Soup', 'url': 'https://vegsoc.org/recipes/pumpkin-soup/'},\n",
       " {'name': 'Apricot Chocolate Refrigerator Cake',\n",
       "  'url': 'https://vegsoc.org/recipes/apricot-chocolate-refrigerator-cake/'},\n",
       " {'name': 'Leek and Chestnut Purses',\n",
       "  'url': 'https://vegsoc.org/recipes/leek-and-chestnut-purses/'},\n",
       " {'name': 'Raspberry, Marzipan and Brandy Ice Cream with Lemon Palmiers',\n",
       "  'url': 'https://vegsoc.org/recipes/raspberry-marzipan-and-brandy-ice-cream-with-lemon-palmiers/'},\n",
       " {'name': 'Carrot and Cashew Fan with Orange and Cardamom Sauce',\n",
       "  'url': 'https://vegsoc.org/recipes/carrot-and-cashew-fan-with-orange-and-cardamom-sauce/'},\n",
       " {'name': 'Fig and Walnut Mince Pies with Vanilla Swedish Glace',\n",
       "  'url': 'https://vegsoc.org/recipes/fig-and-walnut-mince-pies-with-vanilla-swedish-glace/'},\n",
       " {'name': 'Rich Mulled Wine Reduction',\n",
       "  'url': 'https://vegsoc.org/recipes/rich-mulled-wine-reduction/'},\n",
       " {'name': 'Smoked Bean Curd Bakes with Shiitake and Walnut Stuffing',\n",
       "  'url': 'https://vegsoc.org/recipes/smoked-bean-curd-bakes-with-shiitake-and-walnut-stuffing/'},\n",
       " {'name': 'Chestnut Velouté',\n",
       "  'url': 'https://vegsoc.org/recipes/chestnut-veloute/'},\n",
       " {'name': 'Chanukah Courgette Latkes',\n",
       "  'url': 'https://vegsoc.org/recipes/chanukah-courgette-latkes/'},\n",
       " {'name': 'Quick Chickpea Korma',\n",
       "  'url': 'https://vegsoc.org/recipes/quick-chickpea-curry/'},\n",
       " {'name': 'Roast Vegetables and Pine Nuts on a Bed of Couscous',\n",
       "  'url': 'https://vegsoc.org/recipes/roast-vegetables-pine-nuts-on-a-bed-of-couscous/'},\n",
       " {'name': 'Beef Tomatoes with Balsamic Marinade',\n",
       "  'url': 'https://vegsoc.org/recipes/beef-tomatoes-with-marinade/'}]"
      ]
     },
     "execution_count": 40,
     "metadata": {},
     "output_type": "execute_result"
    }
   ],
   "source": [
    "recipes_all"
   ]
  },
  {
   "cell_type": "code",
   "execution_count": 146,
   "id": "3a71abd4",
   "metadata": {},
   "outputs": [],
   "source": [
    "curr____Recipe = BeautifulSoup(requests.get(url = recipes_prod[151]['url']).content, \"html.parser\")"
   ]
  },
  {
   "cell_type": "code",
   "execution_count": 50,
   "id": "a0f1d26f",
   "metadata": {},
   "outputs": [],
   "source": [
    "curr____Recipe_1 = BeautifulSoup(requests.get(url = recipes_all[11]['url']).content, \"html.parser\")"
   ]
  },
  {
   "cell_type": "code",
   "execution_count": 2,
   "id": "b5121815",
   "metadata": {},
   "outputs": [],
   "source": [
    "def getRecipeLink(base_url, totalPage):\n",
    "    recipes_all = []\n",
    "    for page in range(1, totalPage):\n",
    "        r = requests.get(base_url + str(page)) #returns a variable which contains the html doc unstructured\n",
    "        print(r)\n",
    "        html = BeautifulSoup(r.content, \"html.parser\")\n",
    "        k = 0 #to count recipes per page\n",
    "        for i in html.findAll('article', {\"class\": \"recipe-snippet\"}):\n",
    "            link = i.find(\"a\", attrs={'href': re.compile(\"https://vegsoc.org/recipes/\")})\n",
    "            name = i.find('h3', {\"class\":\"recipe-snippet__heading\"}).text\n",
    "            recipes_all.append({\"name\" : name, \"url\" : link['href']})\n",
    "            k+=1\n",
    "        print(\"Extracted {} recipes\".format(k))\n",
    "    return recipes_all"
   ]
  },
  {
   "cell_type": "code",
   "execution_count": 3,
   "id": "8d3bd05c",
   "metadata": {},
   "outputs": [],
   "source": [
    "def get_ingreds_together(currRecipe):\n",
    "    ingreds_together = []\n",
    "    uls = currRecipe.find_all(\"ul\", {\"class\": \"ingredients-list__list no-list\"})\n",
    "    for ul in uls:\n",
    "        lis = ul.find_all(\"li\", {\"class\": \"ingredients-list__item js-ingredient-item\"})\n",
    "        for li in lis:\n",
    "            text = li.text\n",
    "            if isinstance(text, str):\n",
    "                text = text.strip()\n",
    "                ingreds_together.append(text)\n",
    "    return ingreds_together"
   ]
  },
  {
   "cell_type": "code",
   "execution_count": 43,
   "id": "d124007e",
   "metadata": {},
   "outputs": [
    {
     "data": {
      "text/plain": [
       "['440ml good quality vegan cider',\n",
       " '1 tsp chopped chives',\n",
       " '2 tbsp olive oil',\n",
       " '2 tbsp white caster sugar',\n",
       " '11/2 tbsp English mustard',\n",
       " 'Salt and pepper, to taste',\n",
       " '500g mini baby new potatoes',\n",
       " '1 tbsp olive oil',\n",
       " '2 whole garlic bulbs, tops cut off to expose the cloves',\n",
       " '6 vegan sausages, left whole or cut into halves',\n",
       " '2 red onions, cut into wedges',\n",
       " '150g Tenderstem broccoli',\n",
       " '2 red apples, cut into wedges',\n",
       " '100g vegan hollandaise sauce',\n",
       " '2 tbsp gherkins, finely chopped',\n",
       " '1 tsp chives, chopped',\n",
       " '1 tsp chopped flat-leaf parsley',\n",
       " 'A handful flat-leaf parsley and torn basil']"
      ]
     },
     "execution_count": 43,
     "metadata": {},
     "output_type": "execute_result"
    }
   ],
   "source": [
    "get_ingreds_together(curr____Recipe)"
   ]
  },
  {
   "cell_type": "code",
   "execution_count": 4,
   "id": "802f7ad6",
   "metadata": {},
   "outputs": [],
   "source": [
    "def get_ingreds_separately(currRecipe):\n",
    "    divs = currRecipe.find_all(\"div\", {\"class\": \"ingredients-list__meal-part\"})\n",
    "    if divs is None:\n",
    "        return \"no info\"\n",
    "    try:\n",
    "        headings = [div.find(\"h5\", {\"class\": \"ingredients-list__meal-part-heading\"}).text for div in divs]\n",
    "    except AttributeError:\n",
    "        return \"no info\"\n",
    "    ingred_lists = [get_ingreds_together(div) for div in divs]\n",
    "    ingred_lists_dict = dict(zip(headings, ingred_lists))\n",
    "    return ingred_lists_dict"
   ]
  },
  {
   "cell_type": "code",
   "execution_count": 45,
   "id": "57c0f8dc",
   "metadata": {},
   "outputs": [
    {
     "data": {
      "text/plain": [
       "{'For the Sticky Cider Glaze': ['440ml good quality vegan cider',\n",
       "  '1 tsp chopped chives',\n",
       "  '2 tbsp olive oil',\n",
       "  '2 tbsp white caster sugar',\n",
       "  '11/2 tbsp English mustard',\n",
       "  'Salt and pepper, to taste'],\n",
       " 'For the Traybake': ['500g mini baby new potatoes',\n",
       "  '1 tbsp olive oil',\n",
       "  '2 whole garlic bulbs, tops cut off to expose the cloves',\n",
       "  '6 vegan sausages, left whole or cut into halves',\n",
       "  '2 red onions, cut into wedges',\n",
       "  '150g Tenderstem broccoli',\n",
       "  '2 red apples, cut into wedges'],\n",
       " 'For the dipping sauce': ['100g vegan hollandaise sauce',\n",
       "  '2 tbsp gherkins, finely chopped',\n",
       "  '1 tsp chives, chopped',\n",
       "  '1 tsp chopped flat-leaf parsley'],\n",
       " 'To garnish': ['A handful flat-leaf parsley and torn basil']}"
      ]
     },
     "execution_count": 45,
     "metadata": {},
     "output_type": "execute_result"
    }
   ],
   "source": [
    "get_ingreds_separately(curr____Recipe)"
   ]
  },
  {
   "cell_type": "code",
   "execution_count": 5,
   "id": "c95d1476",
   "metadata": {},
   "outputs": [],
   "source": [
    "def get_nutritional_metrics(currRecipe):\n",
    "    nutritional_metrics_names_list = [\"calories\", \"protein\", \"fat\", \"saturates\", \"carbs\", \"sugar\", \"fibre\", \"salt\"]\n",
    "    lis = currRecipe.find_all(\"li\", {\"class\": \"nutritional-metrics-collection__item\"})\n",
    "    nutritional_metrics_values = [li.find(\"p\", {\"class\": \"nutritional-metrics-card__value\"}).text.strip() for li in lis]\n",
    "    nutritional_metrics_keys = [li.find(\"p\", {\"class\": \"nutritional-metrics-card__key\"}).text.strip().lower() for li in lis]\n",
    "    if lis:\n",
    "        nutritional_info_dict = dict(zip(nutritional_metrics_keys, nutritional_metrics_values))\n",
    "    else:\n",
    "        nutritional_info_dict = dict(zip(nutritional_metrics_names_list, [\"no info\"]*len(nutritional_metrics_names_list)))\n",
    "    return nutritional_info_dict"
   ]
  },
  {
   "cell_type": "code",
   "execution_count": 53,
   "id": "d3ee430d",
   "metadata": {},
   "outputs": [
    {
     "data": {
      "text/plain": [
       "{'calories': 'no info',\n",
       " 'protein': 'no info',\n",
       " 'fat': 'no info',\n",
       " 'saturates': 'no info',\n",
       " 'carbs': 'no info',\n",
       " 'sugar': 'no info',\n",
       " 'fibre': 'no info',\n",
       " 'salt': 'no info'}"
      ]
     },
     "execution_count": 53,
     "metadata": {},
     "output_type": "execute_result"
    }
   ],
   "source": [
    "get_nutritional_metrics(curr____Recipe)"
   ]
  },
  {
   "cell_type": "code",
   "execution_count": 54,
   "id": "6e9b8756",
   "metadata": {},
   "outputs": [
    {
     "data": {
      "text/plain": [
       "{'calories': '796.6 kcal',\n",
       " 'protein': '23.6g',\n",
       " 'fat': '30.2g',\n",
       " 'saturates': '5.2g',\n",
       " 'carbs': '115.4g',\n",
       " 'sugar': '2.8g',\n",
       " 'fibre': '1.38225g'}"
      ]
     },
     "execution_count": 54,
     "metadata": {},
     "output_type": "execute_result"
    }
   ],
   "source": [
    "get_nutritional_metrics(curr____Recipe_1)"
   ]
  },
  {
   "cell_type": "code",
   "execution_count": 6,
   "id": "650bb0bf",
   "metadata": {},
   "outputs": [],
   "source": [
    "def get_keypoints_list(currRecipe):\n",
    "    ps = currRecipe.find_all(\"p\", {\"class\": \"recipe-key-points__text\"})\n",
    "    keypoints_list = [p.text.strip() for p in ps]\n",
    "    return keypoints_list"
   ]
  },
  {
   "cell_type": "code",
   "execution_count": 57,
   "id": "95d94fe1",
   "metadata": {},
   "outputs": [
    {
     "data": {
      "text/plain": [
       "['Dairy-Free',\n",
       " 'Egg-Free',\n",
       " 'Gluten-Free',\n",
       " 'Suitable for Freezing',\n",
       " 'Wheat-Free']"
      ]
     },
     "execution_count": 57,
     "metadata": {},
     "output_type": "execute_result"
    }
   ],
   "source": [
    "get_keypoints_list(curr____Recipe_1)"
   ]
  },
  {
   "cell_type": "code",
   "execution_count": 58,
   "id": "07893625",
   "metadata": {},
   "outputs": [
    {
     "data": {
      "text/plain": [
       "['Dairy-Free', 'Egg-Free', 'Gluten-Free', 'Nut-Free', 'Vegan', 'Wheat-Free']"
      ]
     },
     "execution_count": 58,
     "metadata": {},
     "output_type": "execute_result"
    }
   ],
   "source": [
    "get_keypoints_list(curr____Recipe)"
   ]
  },
  {
   "cell_type": "code",
   "execution_count": 7,
   "id": "bacc29a8",
   "metadata": {},
   "outputs": [],
   "source": [
    "def get_prep_info_part(currRecipe, info_type):\n",
    "    p = currRecipe.find(\"p\", {\"class\": \"recipe-meta-snippet recipe-meta-snippet--\" + info_type})\n",
    "    if p is None:\n",
    "        return \"no info\"\n",
    "    text = p.find(\"span\", {\"class\": \"recipe-meta-snippet__text\"}).text\n",
    "    number = re.findall(pattern=r\"\\d+\", string=text)[0]\n",
    "    return number    "
   ]
  },
  {
   "cell_type": "code",
   "execution_count": 81,
   "id": "e0c95219",
   "metadata": {},
   "outputs": [
    {
     "data": {
      "text/plain": [
       "'50'"
      ]
     },
     "execution_count": 81,
     "metadata": {},
     "output_type": "execute_result"
    }
   ],
   "source": [
    "get_prep_info_part(curr____Recipe_1, \"time\")"
   ]
  },
  {
   "cell_type": "code",
   "execution_count": 8,
   "id": "3983137f",
   "metadata": {},
   "outputs": [],
   "source": [
    "def get_prep_info_dict(currRecipe, list_info_types = [\"serves\", \"prep\", \"time\"]):\n",
    "    dict_keys = [\"servings_number\", \"preparation_time_minutes\", \"cooking_time_minutes\"]\n",
    "    prep_info_dict = {}\n",
    "    for num_info, info_type in enumerate(list_info_types):\n",
    "        prep_info_dict[dict_keys[num_info]] = get_prep_info_part(currRecipe, info_type)\n",
    "    return prep_info_dict"
   ]
  },
  {
   "cell_type": "code",
   "execution_count": 83,
   "id": "f35b7b62",
   "metadata": {},
   "outputs": [
    {
     "data": {
      "text/plain": [
       "{'servings_number': '4',\n",
       " 'preparation_time_minutes': '15',\n",
       " 'cooking_time_minutes': '50'}"
      ]
     },
     "execution_count": 83,
     "metadata": {},
     "output_type": "execute_result"
    }
   ],
   "source": [
    "get_prep_info_dict(curr____Recipe_1, list_info_types = [\"serves\", \"prep\", \"time\"])"
   ]
  },
  {
   "cell_type": "code",
   "execution_count": 9,
   "id": "214952cb",
   "metadata": {},
   "outputs": [],
   "source": [
    "def get_secondary_info_dict(currRecipe):\n",
    "    secondary_info_dict = {\"meal_type\": \"no info\",\n",
    "                          \"difficulty\": \"no info\"}\n",
    "    keys__ = [\"meal_type\", \"difficulty\"]\n",
    "    lis = currRecipe.find_all(\"li\", {\"class\": \"image-split-banner__secondary-info-item\"})[:2]\n",
    "    for num_li, li in enumerate(lis):\n",
    "        if num_li == 0:\n",
    "            a = li.find(\"a\", attrs={'href': re.compile(\"/recipes/\")})\n",
    "            if a:\n",
    "                text = li.find(\"a\", attrs={'href': re.compile(\"/recipes/\")}).text.strip()\n",
    "            else:\n",
    "                text = \"no info\"\n",
    "            secondary_info_dict[\"meal_type\"] = text\n",
    "        else:\n",
    "            span = li.find(\"span\", {\"class\": \"recipe-meta-snippet__text\"})\n",
    "            if span:\n",
    "                text = \" \".join(span.text.strip().split(\" \")[1:])\n",
    "            else:\n",
    "                text = \"no info\"\n",
    "            secondary_info_dict[\"difficulty\"] = text\n",
    "    return secondary_info_dict"
   ]
  },
  {
   "cell_type": "code",
   "execution_count": 147,
   "id": "e82b5a6e",
   "metadata": {},
   "outputs": [
    {
     "data": {
      "text/plain": [
       "{'meal_type': 'Main', 'difficulty': 'no info'}"
      ]
     },
     "execution_count": 147,
     "metadata": {},
     "output_type": "execute_result"
    }
   ],
   "source": [
    "get_secondary_info_dict(curr____Recipe)"
   ]
  },
  {
   "cell_type": "code",
   "execution_count": 10,
   "id": "2b8e568e",
   "metadata": {},
   "outputs": [],
   "source": [
    "def get_recipe_name(currRecipe):\n",
    "    div = currRecipe.find(\"div\", {\"class\": \"image-split-banner__primary-info\"})\n",
    "    h1 = div.find(\"h1\", {\"class\": \"image-split-banner__heading\"})\n",
    "    recipe_name = h1.text.strip()\n",
    "    return recipe_name"
   ]
  },
  {
   "cell_type": "code",
   "execution_count": 92,
   "id": "5532cc1c",
   "metadata": {},
   "outputs": [
    {
     "data": {
      "text/plain": [
       "'Sticky Cider-Glazed Sausage Traybake'"
      ]
     },
     "execution_count": 92,
     "metadata": {},
     "output_type": "execute_result"
    }
   ],
   "source": [
    "get_recipe_name(curr____Recipe)"
   ]
  },
  {
   "cell_type": "code",
   "execution_count": 11,
   "id": "3dec1ad5",
   "metadata": {},
   "outputs": [],
   "source": [
    "def get_instructions(currRecipe):\n",
    "    lis = currRecipe.find_all(\"li\", {\"class\": \"method-list__item\"})\n",
    "    instructions = [li.text.strip() for li in lis]\n",
    "    return instructions"
   ]
  },
  {
   "cell_type": "code",
   "execution_count": 96,
   "id": "97437488",
   "metadata": {},
   "outputs": [
    {
     "data": {
      "text/plain": [
       "['Gently fry the onion in a large pan, after 5 mins add the garlic and continue to cook for another 2 minutes minute. Add the turmeric, paprika, ginger and chilli and cook for another 2 minutes.',\n",
       " 'Add sweet potato, cauliflower, peppers, chickpeas, cashew nuts, stock and coconut milk then bring to the boil and simmer for 20 minutes stirring occasionally. If you would like a thicker sauce mix 1 tsp of cornflour with a little water to make a paste. Add this to the Korma and gently stir for 5 minutes.',\n",
       " 'Finally add the peas and most of the coriander retaining a little for garnish. Adjust the seasoning and serve with a spoonful of natural yogurt and coriander to garnish.',\n",
       " 'To make the rice: Gently fry the onion in a large pan. After 5 minutes add the spices and continue to fry for 2 minutes. Add the rice and cover with water. Bring to the boil, and then simmer for 20 minutes until the water has been absorbed. Finally add the peas and cook for another 5 minutes. Depending on the size of pan used, you may need to add a little more water. Drain off any excess water and serve.']"
      ]
     },
     "execution_count": 96,
     "metadata": {},
     "output_type": "execute_result"
    }
   ],
   "source": [
    "get_instructions(curr____Recipe_1)"
   ]
  },
  {
   "cell_type": "code",
   "execution_count": 16,
   "id": "a6d443aa",
   "metadata": {},
   "outputs": [],
   "source": [
    "def getEachRecipe(recipesList):\n",
    "    for ix in range(len(recipesList)):\n",
    "        url = recipesList[ix]['url']\n",
    "        r = requests.get(url) #returns a variable which contains the html doc unstructured\n",
    "        currRecipe = BeautifulSoup(r.content, \"html.parser\")\n",
    "        #there are two versions of the website, the old and new have different html structure\n",
    "        #they require different parsing\n",
    "        ver = 0\n",
    "        recipe_name = get_recipe_name(currRecipe)\n",
    "        recipesList[ix]['name'] = recipe_name\n",
    "        \n",
    "        instructions = get_instructions(currRecipe)\n",
    "        recipesList[ix]['instructions'] = instructions\n",
    "        \n",
    "        ingred_one_list = get_ingreds_together(currRecipe)\n",
    "        recipesList[ix]['ingred_one_list'] = ingred_one_list\n",
    "        \n",
    "        ingred_separate_lists = get_ingreds_separately(currRecipe)\n",
    "        recipesList[ix]['ingred_separate_lists'] = ingred_separate_lists\n",
    "        \n",
    "        key_points_list = get_keypoints_list(currRecipe)\n",
    "        recipesList[ix]['key_points_list'] = key_points_list\n",
    "               \n",
    "        nutritional_info = get_nutritional_metrics(currRecipe)\n",
    "        recipesList[ix]['nutritional_info_dict'] = nutritional_info       \n",
    "\n",
    "        \n",
    "        preparation_info_dict = get_prep_info_dict(currRecipe, list_info_types = [\"serves\", \"prep\", \"time\"])\n",
    "        \n",
    "        servings_number = preparation_info_dict[\"servings_number\"]\n",
    "        preparation_time_minutes = preparation_info_dict[\"preparation_time_minutes\"]\n",
    "        cooking_time_minutes = preparation_info_dict[\"cooking_time_minutes\"]\n",
    "        \n",
    "        recipesList[ix]['servings_number'] = servings_number\n",
    "        recipesList[ix]['preparation_time_minutes'] = preparation_time_minutes\n",
    "        recipesList[ix]['cooking_time_minutes'] = cooking_time_minutes\n",
    "        \n",
    "        secondary_info_dict = get_secondary_info_dict(currRecipe)\n",
    "        meal_type = secondary_info_dict[\"meal_type\"]\n",
    "        difficulty = secondary_info_dict[\"difficulty\"]\n",
    "        \n",
    "        recipesList[ix]['meal_type'] = meal_type\n",
    "        recipesList[ix]['difficulty'] = difficulty\n",
    "        \n",
    "        print(\"\\r\", \"Adding {0} ingredients to {1} recipe\".format(len(ingred_one_list), ix + 1), end=\" \")\n",
    "    return recipesList"
   ]
  },
  {
   "cell_type": "code",
   "execution_count": 134,
   "id": "6a0bdc25",
   "metadata": {},
   "outputs": [
    {
     "name": "stdout",
     "output_type": "stream",
     "text": [
      "<Response [200]>\n",
      "Extracted 12 recipes\n",
      "<Response [200]>\n",
      "Extracted 12 recipes\n",
      "<Response [200]>\n",
      "Extracted 12 recipes\n",
      "<Response [200]>\n",
      "Extracted 12 recipes\n",
      "<Response [200]>\n",
      "Extracted 12 recipes\n",
      "<Response [200]>\n",
      "Extracted 12 recipes\n",
      "<Response [200]>\n",
      "Extracted 12 recipes\n",
      "<Response [200]>\n",
      "Extracted 12 recipes\n",
      "<Response [200]>\n",
      "Extracted 12 recipes\n"
     ]
    }
   ],
   "source": [
    "recipes_test = getRecipeLink(base_url, 1)"
   ]
  },
  {
   "cell_type": "code",
   "execution_count": 135,
   "id": "292a2310",
   "metadata": {},
   "outputs": [
    {
     "name": "stdout",
     "output_type": "stream",
     "text": [
      " Adding 6 ingredients to 108 recipe  "
     ]
    }
   ],
   "source": [
    "data_test = getEachRecipe(recipes_test)"
   ]
  },
  {
   "cell_type": "code",
   "execution_count": 13,
   "id": "d4f1ee55",
   "metadata": {},
   "outputs": [],
   "source": [
    "import json"
   ]
  },
  {
   "cell_type": "code",
   "execution_count": 136,
   "id": "f0e0ffe2",
   "metadata": {},
   "outputs": [],
   "source": [
    "with open('vegsoc_test.json', 'w') as fp:\n",
    "    json.dump(data_test, fp, indent=4)"
   ]
  },
  {
   "cell_type": "code",
   "execution_count": 17,
   "id": "2db87f36",
   "metadata": {},
   "outputs": [
    {
     "name": "stdout",
     "output_type": "stream",
     "text": [
      "<Response [200]>\n",
      "Extracted 12 recipes\n",
      "<Response [200]>\n",
      "Extracted 12 recipes\n",
      "<Response [200]>\n",
      "Extracted 12 recipes\n",
      "<Response [200]>\n",
      "Extracted 12 recipes\n",
      "<Response [200]>\n",
      "Extracted 12 recipes\n",
      "<Response [200]>\n",
      "Extracted 12 recipes\n",
      "<Response [200]>\n",
      "Extracted 12 recipes\n",
      "<Response [200]>\n",
      "Extracted 12 recipes\n",
      "<Response [200]>\n",
      "Extracted 12 recipes\n",
      "<Response [200]>\n",
      "Extracted 12 recipes\n",
      "<Response [200]>\n",
      "Extracted 12 recipes\n",
      "<Response [200]>\n",
      "Extracted 12 recipes\n",
      "<Response [200]>\n",
      "Extracted 12 recipes\n",
      "<Response [200]>\n",
      "Extracted 12 recipes\n",
      "<Response [200]>\n",
      "Extracted 12 recipes\n",
      "<Response [200]>\n",
      "Extracted 12 recipes\n",
      "<Response [200]>\n",
      "Extracted 12 recipes\n",
      "<Response [200]>\n",
      "Extracted 12 recipes\n",
      "<Response [200]>\n",
      "Extracted 12 recipes\n",
      "<Response [200]>\n",
      "Extracted 12 recipes\n",
      "<Response [200]>\n",
      "Extracted 12 recipes\n",
      "<Response [200]>\n",
      "Extracted 12 recipes\n",
      "<Response [200]>\n",
      "Extracted 12 recipes\n",
      "<Response [200]>\n",
      "Extracted 12 recipes\n",
      "<Response [200]>\n",
      "Extracted 12 recipes\n",
      "<Response [200]>\n",
      "Extracted 12 recipes\n",
      "<Response [200]>\n",
      "Extracted 12 recipes\n",
      "<Response [200]>\n",
      "Extracted 12 recipes\n",
      "<Response [200]>\n",
      "Extracted 12 recipes\n",
      "<Response [200]>\n",
      "Extracted 12 recipes\n",
      "<Response [200]>\n",
      "Extracted 12 recipes\n",
      "<Response [200]>\n",
      "Extracted 12 recipes\n",
      "<Response [200]>\n",
      "Extracted 12 recipes\n",
      "<Response [200]>\n",
      "Extracted 12 recipes\n",
      "<Response [200]>\n",
      "Extracted 12 recipes\n",
      "<Response [200]>\n",
      "Extracted 12 recipes\n",
      "<Response [200]>\n",
      "Extracted 12 recipes\n",
      "<Response [200]>\n",
      "Extracted 12 recipes\n",
      "<Response [200]>\n",
      "Extracted 12 recipes\n",
      "<Response [200]>\n",
      "Extracted 12 recipes\n",
      "<Response [200]>\n",
      "Extracted 12 recipes\n",
      "<Response [200]>\n",
      "Extracted 12 recipes\n",
      "<Response [200]>\n",
      "Extracted 12 recipes\n",
      "<Response [200]>\n",
      "Extracted 12 recipes\n",
      "<Response [200]>\n",
      "Extracted 12 recipes\n",
      "<Response [200]>\n",
      "Extracted 12 recipes\n",
      "<Response [200]>\n",
      "Extracted 12 recipes\n",
      "<Response [200]>\n",
      "Extracted 12 recipes\n",
      "<Response [200]>\n",
      "Extracted 12 recipes\n"
     ]
    }
   ],
   "source": [
    "recipes_prod = getRecipeLink(base_url, 50)"
   ]
  },
  {
   "cell_type": "code",
   "execution_count": 61,
   "id": "3b1d0f96",
   "metadata": {},
   "outputs": [],
   "source": [
    "import time"
   ]
  },
  {
   "cell_type": "code",
   "execution_count": 65,
   "id": "4bf0cc2a",
   "metadata": {},
   "outputs": [],
   "source": [
    "import codecs"
   ]
  },
  {
   "cell_type": "code",
   "execution_count": 62,
   "id": "6b67cacc",
   "metadata": {},
   "outputs": [
    {
     "name": "stdout",
     "output_type": "stream",
     "text": [
      " Adding 7 ingredients to 588 recipe Scrapping took 10.446027092138927 minutes\n"
     ]
    }
   ],
   "source": [
    "start_scrapping = time.time()\n",
    "data_prod = getEachRecipe(recipes_prod)\n",
    "end_scrapping = time.time()\n",
    "\n",
    "duration_scrapping_minutes = (end_scrapping - start_scrapping) / 60\n",
    "print(\"Scrapping took {} minutes\".format(duration_scrapping_minutes))"
   ]
  },
  {
   "cell_type": "code",
   "execution_count": 64,
   "id": "1f5f9951",
   "metadata": {},
   "outputs": [],
   "source": [
    "with open('vegsoc_prod.json', 'w', encoding=\"utf-8\") as fp:\n",
    "    json.dump(data_prod, fp, indent=4, ensure_ascii=False)"
   ]
  },
  {
   "cell_type": "code",
   "execution_count": 67,
   "id": "8532832f",
   "metadata": {},
   "outputs": [],
   "source": [
    "with codecs.open(\"2021-09-19_vegsoc_prod.json\", \"w\", \"utf-8\") as fp:\n",
    "    json.dump(data_prod, fp, indent=4, ensure_ascii=False)"
   ]
  },
  {
   "cell_type": "code",
   "execution_count": 70,
   "id": "bc09abbe",
   "metadata": {},
   "outputs": [],
   "source": [
    "with open('vegsoc_prod.json', 'r', encoding=\"utf-8\") as fp_read:\n",
    "    json_ascii = json.load(fp_read)\n",
    "    with open(\"vegsoc_prod_2021-09-19.json\", 'w', encoding=\"utf-8\") as fp_write:\n",
    "        json.dump(json_ascii, fp_write, indent=4, ensure_ascii=False)  "
   ]
  },
  {
   "cell_type": "code",
   "execution_count": null,
   "id": "85b3fa3b",
   "metadata": {},
   "outputs": [],
   "source": []
  }
 ],
 "metadata": {
  "kernelspec": {
   "display_name": "Python 3 (ipykernel)",
   "language": "python",
   "name": "python3"
  },
  "language_info": {
   "codemirror_mode": {
    "name": "ipython",
    "version": 3
   },
   "file_extension": ".py",
   "mimetype": "text/x-python",
   "name": "python",
   "nbconvert_exporter": "python",
   "pygments_lexer": "ipython3",
   "version": "3.8.6"
  }
 },
 "nbformat": 4,
 "nbformat_minor": 5
}
